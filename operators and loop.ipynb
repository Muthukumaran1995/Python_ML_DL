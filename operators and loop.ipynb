{
 "cells": [
  {
   "cell_type": "markdown",
   "id": "31ea0eaa",
   "metadata": {},
   "source": [
    "str(20)"
   ]
  },
  {
   "cell_type": "code",
   "execution_count": 2,
   "id": "7ec3a139",
   "metadata": {},
   "outputs": [
    {
     "ename": "TypeError",
     "evalue": "'types.GenericAlias' object is not iterable",
     "output_type": "error",
     "traceback": [
      "\u001b[1;31m---------------------------------------------------------------------------\u001b[0m",
      "\u001b[1;31mTypeError\u001b[0m                                 Traceback (most recent call last)",
      "\u001b[1;32mC:\\Users\\MUTHUK~1\\AppData\\Local\\Temp/ipykernel_6072/2098507853.py\u001b[0m in \u001b[0;36m<module>\u001b[1;34m\u001b[0m\n\u001b[1;32m----> 1\u001b[1;33m \u001b[0mset\u001b[0m\u001b[1;33m(\u001b[0m\u001b[0mlist\u001b[0m\u001b[1;33m[\u001b[0m\u001b[1;36m1\u001b[0m\u001b[1;33m,\u001b[0m\u001b[1;36m12\u001b[0m\u001b[1;33m,\u001b[0m\u001b[1;36m3\u001b[0m\u001b[1;33m]\u001b[0m\u001b[1;33m)\u001b[0m\u001b[1;33m\u001b[0m\u001b[1;33m\u001b[0m\u001b[0m\n\u001b[0m",
      "\u001b[1;31mTypeError\u001b[0m: 'types.GenericAlias' object is not iterable"
     ]
    }
   ],
   "source": [
    "set(list[1,12,3])"
   ]
  },
  {
   "cell_type": "code",
   "execution_count": 3,
   "id": "4d0b1628",
   "metadata": {},
   "outputs": [
    {
     "data": {
      "text/plain": [
       "{1, 2, 3}"
      ]
     },
     "execution_count": 3,
     "metadata": {},
     "output_type": "execute_result"
    }
   ],
   "source": [
    "set([1,2,3])"
   ]
  },
  {
   "cell_type": "code",
   "execution_count": 4,
   "id": "f7b5cffb",
   "metadata": {},
   "outputs": [
    {
     "data": {
      "text/plain": [
       "list['LIST']"
      ]
     },
     "execution_count": 4,
     "metadata": {},
     "output_type": "execute_result"
    }
   ],
   "source": [
    "list['LIST']"
   ]
  },
  {
   "cell_type": "code",
   "execution_count": 5,
   "id": "b82709da",
   "metadata": {},
   "outputs": [
    {
     "data": {
      "text/plain": [
       "['L', 'I', 'S', 'T']"
      ]
     },
     "execution_count": 5,
     "metadata": {},
     "output_type": "execute_result"
    }
   ],
   "source": [
    "list('LIST')"
   ]
  },
  {
   "cell_type": "code",
   "execution_count": 6,
   "id": "24daff42",
   "metadata": {},
   "outputs": [
    {
     "name": "stdout",
     "output_type": "stream",
     "text": [
      "{'name': 'John', 10: 50}\n"
     ]
    }
   ],
   "source": [
    "print(dict([[\"name\",\"John\"],[10,50]]))"
   ]
  },
  {
   "cell_type": "code",
   "execution_count": 7,
   "id": "f3a193eb",
   "metadata": {},
   "outputs": [],
   "source": [
    "i=585\n",
    "b=323.5\n",
    "z= i+b"
   ]
  },
  {
   "cell_type": "code",
   "execution_count": 8,
   "id": "1fcb6249",
   "metadata": {},
   "outputs": [
    {
     "name": "stdout",
     "output_type": "stream",
     "text": [
      "908.5\n"
     ]
    }
   ],
   "source": [
    "print(z)"
   ]
  },
  {
   "cell_type": "code",
   "execution_count": 9,
   "id": "36cefa9d",
   "metadata": {},
   "outputs": [
    {
     "ename": "TypeError",
     "evalue": "unsupported operand type(s) for +: 'int' and 'str'",
     "output_type": "error",
     "traceback": [
      "\u001b[1;31m---------------------------------------------------------------------------\u001b[0m",
      "\u001b[1;31mTypeError\u001b[0m                                 Traceback (most recent call last)",
      "\u001b[1;32mC:\\Users\\MUTHUK~1\\AppData\\Local\\Temp/ipykernel_6072/2872907258.py\u001b[0m in \u001b[0;36m<module>\u001b[1;34m\u001b[0m\n\u001b[0;32m      1\u001b[0m \u001b[0mi\u001b[0m\u001b[1;33m=\u001b[0m\u001b[1;36m585\u001b[0m\u001b[1;33m\u001b[0m\u001b[1;33m\u001b[0m\u001b[0m\n\u001b[0;32m      2\u001b[0m \u001b[0mb\u001b[0m\u001b[1;33m=\u001b[0m\u001b[1;34m'muthu'\u001b[0m\u001b[1;33m\u001b[0m\u001b[1;33m\u001b[0m\u001b[0m\n\u001b[1;32m----> 3\u001b[1;33m \u001b[0mz\u001b[0m\u001b[1;33m=\u001b[0m \u001b[0mi\u001b[0m\u001b[1;33m+\u001b[0m\u001b[0mb\u001b[0m\u001b[1;33m\u001b[0m\u001b[1;33m\u001b[0m\u001b[0m\n\u001b[0m",
      "\u001b[1;31mTypeError\u001b[0m: unsupported operand type(s) for +: 'int' and 'str'"
     ]
    }
   ],
   "source": [
    "i=585\n",
    "b='muthu'\n",
    "z= i+b"
   ]
  },
  {
   "cell_type": "code",
   "execution_count": 10,
   "id": "692b0745",
   "metadata": {},
   "outputs": [],
   "source": [
    "i='priya'\n",
    "b='muthu'\n",
    "z= i+b"
   ]
  },
  {
   "cell_type": "code",
   "execution_count": 11,
   "id": "f14fc6e4",
   "metadata": {},
   "outputs": [
    {
     "name": "stdout",
     "output_type": "stream",
     "text": [
      "priyamuthu\n"
     ]
    }
   ],
   "source": [
    "print(z)"
   ]
  },
  {
   "cell_type": "code",
   "execution_count": 16,
   "id": "cca6c659",
   "metadata": {},
   "outputs": [
    {
     "name": "stdout",
     "output_type": "stream",
     "text": [
      " Datatype of int_var is: <class 'int'>\n",
      " Datatype of String_var is: <class 'float'>\n",
      "the new value of conversion is: 823.7\n",
      "dataype of conversion is: <class 'float'>\n"
     ]
    }
   ],
   "source": [
    "int_var = 768\n",
    "string_var = float(\"55.7\")\n",
    "conversion1 =  string_var + int_var\n",
    "\n",
    "print(' Datatype of int_var is:' ,type(int_var))\n",
    "print(' Datatype of String_var is:' ,type(string_var))\n",
    "print('the new value of conversion is:' ,conversion1)\n",
    "print('dataype of conversion is:' ,type(conversion1))"
   ]
  },
  {
   "cell_type": "code",
   "execution_count": 18,
   "id": "7f00c92a",
   "metadata": {},
   "outputs": [
    {
     "name": "stdout",
     "output_type": "stream",
     "text": [
      "enter the num:5\n"
     ]
    },
    {
     "ename": "TypeError",
     "evalue": "can only concatenate str (not \"int\") to str",
     "output_type": "error",
     "traceback": [
      "\u001b[1;31m---------------------------------------------------------------------------\u001b[0m",
      "\u001b[1;31mTypeError\u001b[0m                                 Traceback (most recent call last)",
      "\u001b[1;32mC:\\Users\\MUTHUK~1\\AppData\\Local\\Temp/ipykernel_6072/1852535767.py\u001b[0m in \u001b[0;36m<module>\u001b[1;34m\u001b[0m\n\u001b[0;32m      1\u001b[0m \u001b[0mnum\u001b[0m\u001b[1;33m=\u001b[0m \u001b[0minput\u001b[0m\u001b[1;33m(\u001b[0m\u001b[1;34m'enter the num:'\u001b[0m\u001b[1;33m)\u001b[0m\u001b[1;33m\u001b[0m\u001b[1;33m\u001b[0m\u001b[0m\n\u001b[1;32m----> 2\u001b[1;33m \u001b[0madd\u001b[0m \u001b[1;33m=\u001b[0m \u001b[0mnum\u001b[0m\u001b[1;33m+\u001b[0m \u001b[1;36m50\u001b[0m\u001b[1;33m\u001b[0m\u001b[1;33m\u001b[0m\u001b[0m\n\u001b[0m\u001b[0;32m      3\u001b[0m \u001b[0mprint\u001b[0m\u001b[1;33m(\u001b[0m\u001b[0madd\u001b[0m\u001b[1;33m)\u001b[0m\u001b[1;33m\u001b[0m\u001b[1;33m\u001b[0m\u001b[0m\n",
      "\u001b[1;31mTypeError\u001b[0m: can only concatenate str (not \"int\") to str"
     ]
    }
   ],
   "source": [
    "num= input('enter the num:')\n",
    "add = num+ 50\n",
    "print(add)"
   ]
  },
  {
   "cell_type": "code",
   "execution_count": 19,
   "id": "0a078e79",
   "metadata": {},
   "outputs": [
    {
     "name": "stdout",
     "output_type": "stream",
     "text": [
      "enter the num:1\n",
      "enter the num1:3\n",
      "13\n"
     ]
    }
   ],
   "source": [
    "num= input('enter the num:')\n",
    "num1= input('enter the num1:')\n",
    "add = num+ num1\n",
    "print(add)"
   ]
  },
  {
   "cell_type": "code",
   "execution_count": 20,
   "id": "c91e33d5",
   "metadata": {},
   "outputs": [
    {
     "name": "stdout",
     "output_type": "stream",
     "text": [
      "enter the num:muthu\n",
      "enter the num1:priya\n",
      "muthupriya\n"
     ]
    }
   ],
   "source": [
    "num= input('enter the num:')\n",
    "num1= input('enter the num1:')\n",
    "add = num+ num1\n",
    "print(add)"
   ]
  },
  {
   "cell_type": "code",
   "execution_count": 21,
   "id": "65568ecb",
   "metadata": {},
   "outputs": [
    {
     "ename": "TypeError",
     "evalue": "eval() arg 1 must be a string, bytes or code object",
     "output_type": "error",
     "traceback": [
      "\u001b[1;31m---------------------------------------------------------------------------\u001b[0m",
      "\u001b[1;31mTypeError\u001b[0m                                 Traceback (most recent call last)",
      "\u001b[1;32mC:\\Users\\MUTHUK~1\\AppData\\Local\\Temp/ipykernel_6072/3966995180.py\u001b[0m in \u001b[0;36m<module>\u001b[1;34m\u001b[0m\n\u001b[1;32m----> 1\u001b[1;33m \u001b[0ma\u001b[0m\u001b[1;33m=\u001b[0m \u001b[0meval\u001b[0m\u001b[1;33m(\u001b[0m\u001b[1;36m10\u001b[0m\u001b[1;33m*\u001b[0m\u001b[1;36m8\u001b[0m\u001b[1;33m)\u001b[0m\u001b[1;33m\u001b[0m\u001b[1;33m\u001b[0m\u001b[0m\n\u001b[0m",
      "\u001b[1;31mTypeError\u001b[0m: eval() arg 1 must be a string, bytes or code object"
     ]
    }
   ],
   "source": [
    "a= eval(10*8)"
   ]
  },
  {
   "cell_type": "code",
   "execution_count": 22,
   "id": "9169ecef",
   "metadata": {},
   "outputs": [],
   "source": [
    "a= eval('10*8')"
   ]
  },
  {
   "cell_type": "markdown",
   "id": "2aceea5d",
   "metadata": {},
   "source": [
    "## operators"
   ]
  },
  {
   "cell_type": "code",
   "execution_count": 23,
   "id": "168a4a38",
   "metadata": {},
   "outputs": [
    {
     "name": "stdout",
     "output_type": "stream",
     "text": [
      "119\n",
      "-15\n",
      "3484\n",
      "0.7761194029850746\n",
      "0\n",
      "9380457573341078260360729208857670265654516128325759011734668892775880418036530473920337497174000485334945342947328\n"
     ]
    }
   ],
   "source": [
    "x=52\n",
    "y =67\n",
    "\n",
    "print(x+y)\n",
    "print(x-y)\n",
    "print(x*y)\n",
    "print(x/y)\n",
    "print(x//y)\n",
    "print(x**y)"
   ]
  },
  {
   "cell_type": "code",
   "execution_count": 24,
   "id": "3c5f0856",
   "metadata": {},
   "outputs": [
    {
     "data": {
      "text/plain": [
       "2"
      ]
     },
     "execution_count": 24,
     "metadata": {},
     "output_type": "execute_result"
    }
   ],
   "source": [
    "round(2.3)"
   ]
  },
  {
   "cell_type": "code",
   "execution_count": 25,
   "id": "a814e2c6",
   "metadata": {},
   "outputs": [
    {
     "name": "stdout",
     "output_type": "stream",
     "text": [
      "4\n"
     ]
    }
   ],
   "source": [
    "print(round(4.5))"
   ]
  },
  {
   "cell_type": "markdown",
   "id": "c38ef000",
   "metadata": {},
   "source": [
    "## Logical operators\n"
   ]
  },
  {
   "cell_type": "code",
   "execution_count": 26,
   "id": "7c6535bd",
   "metadata": {},
   "outputs": [
    {
     "name": "stdout",
     "output_type": "stream",
     "text": [
      "False\n",
      "True\n"
     ]
    }
   ],
   "source": [
    "x= True\n",
    "y= False\n",
    "print(x and y)\n",
    "print(x or y)\n"
   ]
  },
  {
   "cell_type": "code",
   "execution_count": 27,
   "id": "95b9de0f",
   "metadata": {},
   "outputs": [
    {
     "name": "stdout",
     "output_type": "stream",
     "text": [
      "False\n"
     ]
    }
   ],
   "source": [
    "print(not x)"
   ]
  },
  {
   "cell_type": "code",
   "execution_count": 28,
   "id": "edb7ace2",
   "metadata": {},
   "outputs": [],
   "source": [
    "x1= 10\n",
    "y1 = 10"
   ]
  },
  {
   "cell_type": "code",
   "execution_count": 29,
   "id": "1bf5eaf9",
   "metadata": {},
   "outputs": [
    {
     "name": "stdout",
     "output_type": "stream",
     "text": [
      "True\n"
     ]
    }
   ],
   "source": [
    "print(x1 is y1)"
   ]
  },
  {
   "cell_type": "code",
   "execution_count": 30,
   "id": "359e227f",
   "metadata": {},
   "outputs": [],
   "source": [
    "x3=[1,2,3]\n",
    "y3=[1,2,3]"
   ]
  },
  {
   "cell_type": "code",
   "execution_count": 31,
   "id": "68608ae9",
   "metadata": {},
   "outputs": [
    {
     "name": "stdout",
     "output_type": "stream",
     "text": [
      "False\n"
     ]
    }
   ],
   "source": [
    "print(x3 is y1)"
   ]
  },
  {
   "cell_type": "code",
   "execution_count": 32,
   "id": "8e2b92d9",
   "metadata": {},
   "outputs": [
    {
     "data": {
      "text/plain": [
       "(2376601856592, 2376601856592)"
      ]
     },
     "execution_count": 32,
     "metadata": {},
     "output_type": "execute_result"
    }
   ],
   "source": [
    "id(x1),id(y1)"
   ]
  },
  {
   "cell_type": "code",
   "execution_count": 33,
   "id": "22c01959",
   "metadata": {},
   "outputs": [
    {
     "data": {
      "text/plain": [
       "(2376682939392, 2376682656768)"
      ]
     },
     "execution_count": 33,
     "metadata": {},
     "output_type": "execute_result"
    }
   ],
   "source": [
    "id(x3),id(y3)"
   ]
  },
  {
   "cell_type": "markdown",
   "id": "96108a3b",
   "metadata": {},
   "source": [
    "## Membership operators"
   ]
  },
  {
   "cell_type": "code",
   "execution_count": 1,
   "id": "16127538",
   "metadata": {},
   "outputs": [],
   "source": [
    "x='heelo'"
   ]
  },
  {
   "cell_type": "code",
   "execution_count": 2,
   "id": "1dd0cf74",
   "metadata": {},
   "outputs": [
    {
     "name": "stdout",
     "output_type": "stream",
     "text": [
      "True\n"
     ]
    }
   ],
   "source": [
    "print('h' in x)"
   ]
  },
  {
   "cell_type": "code",
   "execution_count": 3,
   "id": "4bbb7b4a",
   "metadata": {},
   "outputs": [],
   "source": [
    "y={10:'a',12:'b'}"
   ]
  },
  {
   "cell_type": "code",
   "execution_count": 4,
   "id": "6d43dd01",
   "metadata": {},
   "outputs": [
    {
     "ename": "TypeError",
     "evalue": "'dict' object is not callable",
     "output_type": "error",
     "traceback": [
      "\u001b[1;31m---------------------------------------------------------------------------\u001b[0m",
      "\u001b[1;31mTypeError\u001b[0m                                 Traceback (most recent call last)",
      "\u001b[1;32mC:\\Users\\MUTHUK~1\\AppData\\Local\\Temp/ipykernel_4132/1528819493.py\u001b[0m in \u001b[0;36m<module>\u001b[1;34m\u001b[0m\n\u001b[1;32m----> 1\u001b[1;33m \u001b[0my\u001b[0m\u001b[1;33m(\u001b[0m\u001b[1;36m12\u001b[0m\u001b[1;33m)\u001b[0m\u001b[1;33m\u001b[0m\u001b[1;33m\u001b[0m\u001b[0m\n\u001b[0m",
      "\u001b[1;31mTypeError\u001b[0m: 'dict' object is not callable"
     ]
    }
   ],
   "source": [
    "y(12)"
   ]
  },
  {
   "cell_type": "code",
   "execution_count": 5,
   "id": "708a7f6e",
   "metadata": {},
   "outputs": [
    {
     "data": {
      "text/plain": [
       "'b'"
      ]
     },
     "execution_count": 5,
     "metadata": {},
     "output_type": "execute_result"
    }
   ],
   "source": [
    "y[12]"
   ]
  },
  {
   "cell_type": "markdown",
   "id": "54d1684d",
   "metadata": {},
   "source": [
    "## if statement"
   ]
  },
  {
   "cell_type": "code",
   "execution_count": 7,
   "id": "137ed32c",
   "metadata": {},
   "outputs": [
    {
     "name": "stdout",
     "output_type": "stream",
     "text": [
      "Enter the Value:52\n",
      "posotove\n"
     ]
    }
   ],
   "source": [
    "num = int(input('Enter the Value:'))\n",
    "if num >= 0:\n",
    "    print('posotove')\n",
    "else:\n",
    "    print('negative')\n",
    "    "
   ]
  },
  {
   "cell_type": "markdown",
   "id": "efa2365f",
   "metadata": {},
   "source": [
    "## if else"
   ]
  },
  {
   "cell_type": "code",
   "execution_count": 8,
   "id": "19c1e7cc",
   "metadata": {},
   "outputs": [
    {
     "name": "stdout",
     "output_type": "stream",
     "text": [
      "Enter the Value:0\n",
      "zero\n"
     ]
    }
   ],
   "source": [
    "num = int(input('Enter the Value:'))\n",
    "if num > 0:\n",
    "    print('posotove')\n",
    "elif num == 0:\n",
    "    print('zero')\n",
    "else:\n",
    "    print('negative')"
   ]
  },
  {
   "cell_type": "markdown",
   "id": "ca182b95",
   "metadata": {},
   "source": [
    "## Nesteed if"
   ]
  },
  {
   "cell_type": "code",
   "execution_count": 11,
   "id": "8c9a4338",
   "metadata": {},
   "outputs": [
    {
     "name": "stdout",
     "output_type": "stream",
     "text": [
      "Enter the Value:0\n",
      "zero\n"
     ]
    }
   ],
   "source": [
    "num = int(input('Enter the Value:'))\n",
    "if num >= 0:\n",
    "    if num == 0:\n",
    "        print('zero')\n",
    "    else:\n",
    "        print('podotve')\n",
    "else:\n",
    "    print('negr')\n",
    "    "
   ]
  },
  {
   "cell_type": "code",
   "execution_count": 12,
   "id": "c625a6df",
   "metadata": {},
   "outputs": [],
   "source": [
    "list=[1,2,3]"
   ]
  },
  {
   "cell_type": "markdown",
   "id": "d8c69cdc",
   "metadata": {},
   "source": [
    "## for loop"
   ]
  },
  {
   "cell_type": "code",
   "execution_count": 1,
   "id": "04e9c976",
   "metadata": {},
   "outputs": [
    {
     "name": "stdout",
     "output_type": "stream",
     "text": [
      "get\n"
     ]
    }
   ],
   "source": [
    "print('get')"
   ]
  },
  {
   "cell_type": "code",
   "execution_count": 2,
   "id": "a8e785d0",
   "metadata": {},
   "outputs": [
    {
     "data": {
      "text/plain": [
       "3"
      ]
     },
     "execution_count": 2,
     "metadata": {},
     "output_type": "execute_result"
    }
   ],
   "source": [
    "list_city = ['chennai','kolkata','Mumbai']\n",
    "len(list_city)"
   ]
  },
  {
   "cell_type": "code",
   "execution_count": 3,
   "id": "ab6f3686",
   "metadata": {},
   "outputs": [
    {
     "ename": "NameError",
     "evalue": "name 'list_ciy' is not defined",
     "output_type": "error",
     "traceback": [
      "\u001b[1;31m---------------------------------------------------------------------------\u001b[0m",
      "\u001b[1;31mNameError\u001b[0m                                 Traceback (most recent call last)",
      "\u001b[1;32mC:\\Users\\MUTHUK~1\\AppData\\Local\\Temp/ipykernel_8396/737724107.py\u001b[0m in \u001b[0;36m<module>\u001b[1;34m\u001b[0m\n\u001b[0;32m      1\u001b[0m \u001b[1;32mfor\u001b[0m \u001b[0mi\u001b[0m \u001b[1;32min\u001b[0m \u001b[0mrange\u001b[0m\u001b[1;33m(\u001b[0m\u001b[0mlen\u001b[0m\u001b[1;33m(\u001b[0m\u001b[0mlist_city\u001b[0m\u001b[1;33m)\u001b[0m\u001b[1;33m)\u001b[0m\u001b[1;33m:\u001b[0m\u001b[1;33m\u001b[0m\u001b[1;33m\u001b[0m\u001b[0m\n\u001b[1;32m----> 2\u001b[1;33m     \u001b[0mprint\u001b[0m\u001b[1;33m(\u001b[0m\u001b[0mlist_ciy\u001b[0m\u001b[1;33m[\u001b[0m\u001b[0mi\u001b[0m\u001b[1;33m]\u001b[0m\u001b[1;33m)\u001b[0m\u001b[1;33m\u001b[0m\u001b[1;33m\u001b[0m\u001b[0m\n\u001b[0m",
      "\u001b[1;31mNameError\u001b[0m: name 'list_ciy' is not defined"
     ]
    }
   ],
   "source": [
    "for i in range(len(list_city)):\n",
    "    print(list_ciy[i])"
   ]
  },
  {
   "cell_type": "code",
   "execution_count": 4,
   "id": "748b4d67",
   "metadata": {},
   "outputs": [
    {
     "name": "stdout",
     "output_type": "stream",
     "text": [
      "chennai\n",
      "kolkata\n",
      "Mumbai\n"
     ]
    }
   ],
   "source": [
    "for i in range(len(list_city)):\n",
    "    print(list_city[i])"
   ]
  },
  {
   "cell_type": "code",
   "execution_count": 12,
   "id": "596400c3",
   "metadata": {},
   "outputs": [
    {
     "name": "stdout",
     "output_type": "stream",
     "text": [
      " I have 1 days\n",
      " I have 10 days\n"
     ]
    }
   ],
   "source": [
    "num =[1,10,100]\n",
    "\n",
    "for i in num:\n",
    "    if (i == 100):\n",
    "        break\n",
    "    print(' I have', i ,'days')\n",
    "else:\n",
    "    print(' I have', i ,'days')\n",
    "  "
   ]
  },
  {
   "cell_type": "markdown",
   "id": "f54cbb91",
   "metadata": {},
   "source": [
    "## while loop"
   ]
  },
  {
   "cell_type": "code",
   "execution_count": 14,
   "id": "c1ab0b5e",
   "metadata": {},
   "outputs": [
    {
     "name": "stdout",
     "output_type": "stream",
     "text": [
      "enter the number3\n",
      "1\n",
      "2\n",
      "3\n",
      "The sum of numbers is: 3\n"
     ]
    }
   ],
   "source": [
    "num = int(input('enter the number'))\n",
    "i=0\n",
    "sum_var = 0\n",
    "\n",
    "while i < num:\n",
    "    sum_var = sum_var + i    \n",
    "    i = i + 1\n",
    "print('The sum of numbers is:' ,sum_var)"
   ]
  },
  {
   "cell_type": "code",
   "execution_count": 16,
   "id": "830b6db9",
   "metadata": {},
   "outputs": [
    {
     "name": "stdout",
     "output_type": "stream",
     "text": [
      "enter the number5\n",
      "5\n",
      "The sum of numbers is: 10\n"
     ]
    }
   ],
   "source": [
    "num = int(input('enter the number'))\n",
    "i=0\n",
    "sum_var = 0\n",
    "\n",
    "while i < num:\n",
    "    sum_var = sum_var + i    \n",
    "    i = i + 1\n",
    "else:\n",
    "    print(i)\n",
    "print('The sum of numbers is:' ,sum_var)"
   ]
  },
  {
   "cell_type": "markdown",
   "id": "b799cb9e",
   "metadata": {},
   "source": [
    "## break and continue"
   ]
  },
  {
   "cell_type": "code",
   "execution_count": 17,
   "id": "1934936f",
   "metadata": {},
   "outputs": [
    {
     "name": "stdout",
     "output_type": "stream",
     "text": [
      "c\n",
      "o\n",
      "u\n",
      "n\n",
      "t\n"
     ]
    }
   ],
   "source": [
    "for i in 'country':\n",
    "    if i=='r':\n",
    "        break\n",
    "    print(i)\n",
    "    "
   ]
  },
  {
   "cell_type": "code",
   "execution_count": 18,
   "id": "8cdaf264",
   "metadata": {},
   "outputs": [
    {
     "name": "stdout",
     "output_type": "stream",
     "text": [
      "c\n",
      "o\n",
      "u\n",
      "n\n",
      "t\n",
      "y\n"
     ]
    }
   ],
   "source": [
    "for i in 'country':\n",
    "    if i=='r':\n",
    "        continue\n",
    "    print(i)"
   ]
  },
  {
   "cell_type": "code",
   "execution_count": 19,
   "id": "db05a5a0",
   "metadata": {},
   "outputs": [],
   "source": [
    "lis_val = ['p','a','s','s']\n",
    "for i in lis_val:\n",
    "    pass"
   ]
  },
  {
   "cell_type": "markdown",
   "id": "9689381c",
   "metadata": {},
   "source": [
    "## functions           "
   ]
  },
  {
   "cell_type": "code",
   "execution_count": 20,
   "id": "21532dbc",
   "metadata": {},
   "outputs": [],
   "source": [
    "def greetings(name):\n",
    "    \"\"\"func to greet someone\"\"\"\n",
    "    print('Hello',name,'how r u')"
   ]
  },
  {
   "cell_type": "code",
   "execution_count": 22,
   "id": "dcef376e",
   "metadata": {},
   "outputs": [
    {
     "name": "stdout",
     "output_type": "stream",
     "text": [
      "Hello guys how r u\n"
     ]
    }
   ],
   "source": [
    "greetings('guys')"
   ]
  },
  {
   "cell_type": "code",
   "execution_count": 23,
   "id": "e5990238",
   "metadata": {},
   "outputs": [],
   "source": [
    "def fun1(val):\n",
    "    val1=abs(val)\n",
    "    return val1\n",
    "    "
   ]
  },
  {
   "cell_type": "code",
   "execution_count": 24,
   "id": "f2a33815",
   "metadata": {},
   "outputs": [
    {
     "data": {
      "text/plain": [
       "8"
      ]
     },
     "execution_count": 24,
     "metadata": {},
     "output_type": "execute_result"
    }
   ],
   "source": [
    "fun1(-8)"
   ]
  },
  {
   "cell_type": "code",
   "execution_count": 25,
   "id": "f44de7a3",
   "metadata": {},
   "outputs": [],
   "source": [
    "def absolute_val(value):\n",
    "    \"\"\"fucn to return the absolute value\"\"\"\n",
    "    if value > 0:\n",
    "        return value\n",
    "    else:\n",
    "        return -value"
   ]
  },
  {
   "cell_type": "code",
   "execution_count": 26,
   "id": "fd2bd691",
   "metadata": {},
   "outputs": [
    {
     "data": {
      "text/plain": [
       "6"
      ]
     },
     "execution_count": 26,
     "metadata": {},
     "output_type": "execute_result"
    }
   ],
   "source": [
    "absolute_val(-6)"
   ]
  },
  {
   "cell_type": "markdown",
   "id": "f2975034",
   "metadata": {},
   "source": [
    "def func():\n",
    "    a = 10 #local variable\n",
    "    print('inside', a)\n",
    "a=20 #global variable\n",
    "func()\n",
    "print('helo', a)"
   ]
  },
  {
   "cell_type": "markdown",
   "id": "b8db4059",
   "metadata": {},
   "source": [
    "## Function arguments"
   ]
  },
  {
   "cell_type": "code",
   "execution_count": 29,
   "id": "cedff303",
   "metadata": {},
   "outputs": [],
   "source": [
    "def greet(a1,a2):\n",
    "    print(a1,a2)"
   ]
  },
  {
   "cell_type": "code",
   "execution_count": 30,
   "id": "6de39051",
   "metadata": {},
   "outputs": [
    {
     "ename": "TypeError",
     "evalue": "greet() missing 2 required positional arguments: 'a1' and 'a2'",
     "output_type": "error",
     "traceback": [
      "\u001b[1;31m---------------------------------------------------------------------------\u001b[0m",
      "\u001b[1;31mTypeError\u001b[0m                                 Traceback (most recent call last)",
      "\u001b[1;32mC:\\Users\\MUTHUK~1\\AppData\\Local\\Temp/ipykernel_8396/2890983093.py\u001b[0m in \u001b[0;36m<module>\u001b[1;34m\u001b[0m\n\u001b[1;32m----> 1\u001b[1;33m \u001b[0mgreet\u001b[0m\u001b[1;33m(\u001b[0m\u001b[1;33m)\u001b[0m\u001b[1;33m\u001b[0m\u001b[1;33m\u001b[0m\u001b[0m\n\u001b[0m",
      "\u001b[1;31mTypeError\u001b[0m: greet() missing 2 required positional arguments: 'a1' and 'a2'"
     ]
    }
   ],
   "source": [
    "greet()"
   ]
  },
  {
   "cell_type": "code",
   "execution_count": 31,
   "id": "ab59b497",
   "metadata": {},
   "outputs": [
    {
     "name": "stdout",
     "output_type": "stream",
     "text": [
      "2 3\n"
     ]
    }
   ],
   "source": [
    "greet(2,3)"
   ]
  },
  {
   "cell_type": "code",
   "execution_count": 32,
   "id": "e4ec360e",
   "metadata": {},
   "outputs": [
    {
     "name": "stdout",
     "output_type": "stream",
     "text": [
      "ggod eveung\n"
     ]
    }
   ],
   "source": [
    "greet('ggod','eveung')"
   ]
  },
  {
   "cell_type": "markdown",
   "id": "9c0603ca",
   "metadata": {},
   "source": [
    "## default arguments\n"
   ]
  },
  {
   "cell_type": "code",
   "execution_count": 33,
   "id": "ff4f64ec",
   "metadata": {},
   "outputs": [],
   "source": [
    "def greet(a1,a2 ='good morn'):\n",
    "    print('hello',a1,a2)"
   ]
  },
  {
   "cell_type": "code",
   "execution_count": 34,
   "id": "fb2413c5",
   "metadata": {},
   "outputs": [
    {
     "name": "stdout",
     "output_type": "stream",
     "text": [
      "hello people good morn\n"
     ]
    }
   ],
   "source": [
    "greet('people')"
   ]
  },
  {
   "cell_type": "code",
   "execution_count": 35,
   "id": "3f2d3428",
   "metadata": {},
   "outputs": [
    {
     "name": "stdout",
     "output_type": "stream",
     "text": [
      "hello p he  r u\n"
     ]
    }
   ],
   "source": [
    "greet('p','he  r u')"
   ]
  },
  {
   "cell_type": "code",
   "execution_count": 36,
   "id": "1cb4eb65",
   "metadata": {},
   "outputs": [
    {
     "ename": "SyntaxError",
     "evalue": "non-default argument follows default argument (Temp/ipykernel_8396/785707669.py, line 1)",
     "output_type": "error",
     "traceback": [
      "\u001b[1;36m  File \u001b[1;32m\"C:\\Users\\MUTHUK~1\\AppData\\Local\\Temp/ipykernel_8396/785707669.py\"\u001b[1;36m, line \u001b[1;32m1\u001b[0m\n\u001b[1;33m    def greet(arg2= 'good morn', a1):\u001b[0m\n\u001b[1;37m                                   ^\u001b[0m\n\u001b[1;31mSyntaxError\u001b[0m\u001b[1;31m:\u001b[0m non-default argument follows default argument\n"
     ]
    }
   ],
   "source": [
    "def greet(arg2= 'good morn', a1):\n",
    "    print('hello',a1,a2)"
   ]
  },
  {
   "cell_type": "markdown",
   "id": "6d208378",
   "metadata": {},
   "source": [
    "## keyword arguments\n"
   ]
  },
  {
   "cell_type": "code",
   "execution_count": 37,
   "id": "e9ec954d",
   "metadata": {},
   "outputs": [
    {
     "name": "stdout",
     "output_type": "stream",
     "text": [
      "hello hi evryone\n",
      "hello hi evryone\n",
      "hello hi evryone\n"
     ]
    }
   ],
   "source": [
    "greet(a1='hi',a2='evryone')\n",
    "greet(a2='evryone',a1 ='hi')\n",
    "greet('hi',a2='evryone')"
   ]
  },
  {
   "cell_type": "markdown",
   "id": "0f5dfd53",
   "metadata": {},
   "source": [
    "## Recursion\n"
   ]
  },
  {
   "cell_type": "code",
   "execution_count": 39,
   "id": "8662c869",
   "metadata": {},
   "outputs": [
    {
     "name": "stdout",
     "output_type": "stream",
     "text": [
      "fac of a 5 is 120\n"
     ]
    }
   ],
   "source": [
    "def recursion(a):\n",
    "    if a == 1:\n",
    "        return a\n",
    "    else:\n",
    "        return (a * recursion(a-1))\n",
    "num = 5\n",
    "print('fac of a', num , 'is', recursion(num))"
   ]
  },
  {
   "cell_type": "markdown",
   "id": "c9a61dbe",
   "metadata": {},
   "source": [
    "## anonymous function - Lambda"
   ]
  },
  {
   "cell_type": "code",
   "execution_count": 50,
   "id": "200d00f2",
   "metadata": {},
   "outputs": [],
   "source": [
    "cube = lambda x : x * x * x"
   ]
  },
  {
   "cell_type": "code",
   "execution_count": 51,
   "id": "c6958a1c",
   "metadata": {},
   "outputs": [
    {
     "data": {
      "text/plain": [
       "39304"
      ]
     },
     "execution_count": 51,
     "metadata": {},
     "output_type": "execute_result"
    }
   ],
   "source": [
    "cube(34)"
   ]
  },
  {
   "cell_type": "markdown",
   "id": "78f3e84c",
   "metadata": {},
   "source": [
    "# Filter and MAP"
   ]
  },
  {
   "cell_type": "code",
   "execution_count": 52,
   "id": "84bf4db5",
   "metadata": {},
   "outputs": [],
   "source": [
    "my_list= list(range(20))"
   ]
  },
  {
   "cell_type": "code",
   "execution_count": 53,
   "id": "d19db2f2",
   "metadata": {},
   "outputs": [
    {
     "name": "stdout",
     "output_type": "stream",
     "text": [
      "[0, 1, 2, 3, 4, 5, 6, 7, 8, 9, 10, 11, 12, 13, 14, 15, 16, 17, 18, 19]\n"
     ]
    }
   ],
   "source": [
    "print(my_list)"
   ]
  },
  {
   "cell_type": "code",
   "execution_count": 54,
   "id": "3bfef589",
   "metadata": {},
   "outputs": [],
   "source": [
    "fil = list(filter(lambda x: x % 2 == 0,my_list))"
   ]
  },
  {
   "cell_type": "code",
   "execution_count": 55,
   "id": "a29a4f83",
   "metadata": {},
   "outputs": [
    {
     "name": "stdout",
     "output_type": "stream",
     "text": [
      "[0, 2, 4, 6, 8, 10, 12, 14, 16, 18]\n"
     ]
    }
   ],
   "source": [
    "print(fil)"
   ]
  },
  {
   "cell_type": "markdown",
   "id": "1c147e1d",
   "metadata": {},
   "source": [
    "## Map\n"
   ]
  },
  {
   "cell_type": "code",
   "execution_count": 59,
   "id": "0241094b",
   "metadata": {},
   "outputs": [
    {
     "name": "stdout",
     "output_type": "stream",
     "text": [
      "[1, 1, 0, 1, 0, 0, 1, 1, 0]\n"
     ]
    }
   ],
   "source": [
    "my_list = [1,5,4,7,6,8,11,3,12]\n",
    "\n",
    "new_list = list(map(lambda x: x%2, my_list))\n",
    "print(new_list)"
   ]
  },
  {
   "cell_type": "code",
   "execution_count": 61,
   "id": "72d2442d",
   "metadata": {},
   "outputs": [],
   "source": [
    "fil = list(map(lambda x: x.upper(), ['a','b','c']))"
   ]
  },
  {
   "cell_type": "code",
   "execution_count": 62,
   "id": "42000b0c",
   "metadata": {},
   "outputs": [
    {
     "name": "stdout",
     "output_type": "stream",
     "text": [
      "['A', 'B', 'C']\n"
     ]
    }
   ],
   "source": [
    "print(fil)"
   ]
  },
  {
   "cell_type": "code",
   "execution_count": 63,
   "id": "b41bfcbe",
   "metadata": {},
   "outputs": [
    {
     "name": "stdout",
     "output_type": "stream",
     "text": [
      "[20, 30, 40, 50]\n"
     ]
    }
   ],
   "source": [
    "my_dict = {10: 'B', 20: 'A', 30: 'A', 40: 'B', 50: 'A'}  \n",
    "filt1 = list((filter(lambda x : x > 10,my_dict)))\n",
    "print(filt1)"
   ]
  },
  {
   "cell_type": "code",
   "execution_count": null,
   "id": "6fdf328f",
   "metadata": {},
   "outputs": [],
   "source": []
  }
 ],
 "metadata": {
  "kernelspec": {
   "display_name": "Python 3 (ipykernel)",
   "language": "python",
   "name": "python3"
  },
  "language_info": {
   "codemirror_mode": {
    "name": "ipython",
    "version": 3
   },
   "file_extension": ".py",
   "mimetype": "text/x-python",
   "name": "python",
   "nbconvert_exporter": "python",
   "pygments_lexer": "ipython3",
   "version": "3.9.7"
  }
 },
 "nbformat": 4,
 "nbformat_minor": 5
}
