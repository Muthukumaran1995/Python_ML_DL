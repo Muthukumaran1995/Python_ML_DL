{
 "cells": [
  {
   "cell_type": "markdown",
   "id": "c907858e",
   "metadata": {},
   "source": [
    "## global Variables"
   ]
  },
  {
   "cell_type": "code",
   "execution_count": 2,
   "id": "5797ded6",
   "metadata": {},
   "outputs": [
    {
     "name": "stdout",
     "output_type": "stream",
     "text": [
      "inside the func 100\n",
      "uotsie: Global variable\n"
     ]
    }
   ],
   "source": [
    "c = 'Global variable'\n",
    "\n",
    "def func1():\n",
    "    c = 100\n",
    "    print('inside the func', c)\n",
    "\n",
    "func1()\n",
    "print('uotsie:',c)"
   ]
  },
  {
   "cell_type": "code",
   "execution_count": 3,
   "id": "4cb6f790",
   "metadata": {},
   "outputs": [
    {
     "name": "stdout",
     "output_type": "stream",
     "text": [
      "local\n"
     ]
    },
    {
     "ename": "NameError",
     "evalue": "name 'local_var' is not defined",
     "output_type": "error",
     "traceback": [
      "\u001b[1;31m---------------------------------------------------------------------------\u001b[0m",
      "\u001b[1;31mNameError\u001b[0m                                 Traceback (most recent call last)",
      "\u001b[1;32mC:\\Users\\MUTHUK~1\\AppData\\Local\\Temp/ipykernel_11128/2706675952.py\u001b[0m in \u001b[0;36m<module>\u001b[1;34m\u001b[0m\n\u001b[0;32m      4\u001b[0m \u001b[1;33m\u001b[0m\u001b[0m\n\u001b[0;32m      5\u001b[0m \u001b[0mfunc2\u001b[0m\u001b[1;33m(\u001b[0m\u001b[1;33m)\u001b[0m\u001b[1;33m\u001b[0m\u001b[1;33m\u001b[0m\u001b[0m\n\u001b[1;32m----> 6\u001b[1;33m \u001b[0mlocal_var\u001b[0m\u001b[1;33m\u001b[0m\u001b[1;33m\u001b[0m\u001b[0m\n\u001b[0m",
      "\u001b[1;31mNameError\u001b[0m: name 'local_var' is not defined"
     ]
    }
   ],
   "source": [
    "def func2():\n",
    "    local_var= 'local'\n",
    "    print(local_var)\n",
    "    \n",
    "func2()\n",
    "local_var"
   ]
  },
  {
   "cell_type": "markdown",
   "id": "54a31c17",
   "metadata": {},
   "source": [
    "## Local and global in same code"
   ]
  },
  {
   "cell_type": "code",
   "execution_count": 6,
   "id": "45c56f91",
   "metadata": {},
   "outputs": [],
   "source": [
    "var = 20\n",
    "\n",
    "def glob_var_ag():\n",
    "    y =10\n",
    "    var = var * 5\n",
    "    print('local var:', y)\n",
    "    print('global var:', var)"
   ]
  },
  {
   "cell_type": "code",
   "execution_count": 12,
   "id": "83629a1b",
   "metadata": {},
   "outputs": [
    {
     "ename": "UnboundLocalError",
     "evalue": "local variable 'var' referenced before assignment",
     "output_type": "error",
     "traceback": [
      "\u001b[1;31m---------------------------------------------------------------------------\u001b[0m",
      "\u001b[1;31mUnboundLocalError\u001b[0m                         Traceback (most recent call last)",
      "\u001b[1;32mC:\\Users\\MUTHUK~1\\AppData\\Local\\Temp/ipykernel_11128/3829698690.py\u001b[0m in \u001b[0;36m<module>\u001b[1;34m\u001b[0m\n\u001b[1;32m----> 1\u001b[1;33m \u001b[0mglob_var_ag\u001b[0m\u001b[1;33m(\u001b[0m\u001b[1;33m)\u001b[0m\u001b[1;33m\u001b[0m\u001b[1;33m\u001b[0m\u001b[0m\n\u001b[0m",
      "\u001b[1;32mC:\\Users\\MUTHUK~1\\AppData\\Local\\Temp/ipykernel_11128/1819949507.py\u001b[0m in \u001b[0;36mglob_var_ag\u001b[1;34m()\u001b[0m\n\u001b[0;32m      3\u001b[0m \u001b[1;32mdef\u001b[0m \u001b[0mglob_var_ag\u001b[0m\u001b[1;33m(\u001b[0m\u001b[1;33m)\u001b[0m\u001b[1;33m:\u001b[0m\u001b[1;33m\u001b[0m\u001b[1;33m\u001b[0m\u001b[0m\n\u001b[0;32m      4\u001b[0m     \u001b[0my\u001b[0m \u001b[1;33m=\u001b[0m\u001b[1;36m10\u001b[0m\u001b[1;33m\u001b[0m\u001b[1;33m\u001b[0m\u001b[0m\n\u001b[1;32m----> 5\u001b[1;33m     \u001b[0mvar\u001b[0m \u001b[1;33m=\u001b[0m \u001b[0mvar\u001b[0m \u001b[1;33m*\u001b[0m \u001b[1;36m5\u001b[0m\u001b[1;33m\u001b[0m\u001b[1;33m\u001b[0m\u001b[0m\n\u001b[0m\u001b[0;32m      6\u001b[0m     \u001b[0mprint\u001b[0m\u001b[1;33m(\u001b[0m\u001b[1;34m'local var:'\u001b[0m\u001b[1;33m,\u001b[0m \u001b[0my\u001b[0m\u001b[1;33m)\u001b[0m\u001b[1;33m\u001b[0m\u001b[1;33m\u001b[0m\u001b[0m\n\u001b[0;32m      7\u001b[0m     \u001b[0mprint\u001b[0m\u001b[1;33m(\u001b[0m\u001b[1;34m'global var:'\u001b[0m\u001b[1;33m,\u001b[0m \u001b[0mvar\u001b[0m\u001b[1;33m)\u001b[0m\u001b[1;33m\u001b[0m\u001b[1;33m\u001b[0m\u001b[0m\n",
      "\u001b[1;31mUnboundLocalError\u001b[0m: local variable 'var' referenced before assignment"
     ]
    }
   ],
   "source": [
    "glob_var_ag()"
   ]
  },
  {
   "cell_type": "markdown",
   "id": "6d900147",
   "metadata": {},
   "source": [
    "## assigning global key word in func"
   ]
  },
  {
   "cell_type": "code",
   "execution_count": 15,
   "id": "44c6f198",
   "metadata": {},
   "outputs": [],
   "source": [
    "var = 20\n",
    "\n",
    "def glob_var_ag():\n",
    "    y =10\n",
    "    global var\n",
    "    var = var * 5\n",
    "    print('local var:', y)\n",
    "    print('global var:', var)"
   ]
  },
  {
   "cell_type": "code",
   "execution_count": 16,
   "id": "ca5957d0",
   "metadata": {},
   "outputs": [
    {
     "name": "stdout",
     "output_type": "stream",
     "text": [
      "local var: 10\n",
      "global var: 100\n"
     ]
    }
   ],
   "source": [
    "glob_var_ag()"
   ]
  },
  {
   "cell_type": "code",
   "execution_count": 17,
   "id": "70c2bbda",
   "metadata": {},
   "outputs": [
    {
     "data": {
      "text/plain": [
       "100"
      ]
     },
     "execution_count": 17,
     "metadata": {},
     "output_type": "execute_result"
    }
   ],
   "source": [
    "var"
   ]
  },
  {
   "cell_type": "code",
   "execution_count": 19,
   "id": "c4f560f8",
   "metadata": {},
   "outputs": [],
   "source": [
    "var = 20\n",
    "def glob_var_ag1():\n",
    "    y =10\n",
    "    global var\n",
    "    var = var * 5\n",
    "    print('local var:', y)\n",
    "    print('global var:', var)"
   ]
  },
  {
   "cell_type": "code",
   "execution_count": 20,
   "id": "f9d909ac",
   "metadata": {},
   "outputs": [
    {
     "name": "stdout",
     "output_type": "stream",
     "text": [
      "local var: 10\n",
      "global var: 100\n"
     ]
    }
   ],
   "source": [
    "glob_var_ag1()"
   ]
  },
  {
   "cell_type": "code",
   "execution_count": 21,
   "id": "672cf668",
   "metadata": {},
   "outputs": [
    {
     "data": {
      "text/plain": [
       "100"
      ]
     },
     "execution_count": 21,
     "metadata": {},
     "output_type": "execute_result"
    }
   ],
   "source": [
    "var"
   ]
  },
  {
   "cell_type": "code",
   "execution_count": 26,
   "id": "d0061503",
   "metadata": {},
   "outputs": [],
   "source": [
    "var = 10\n",
    "def addition_function():\n",
    "    x =10\n",
    "    var1 = var + 20\n",
    "    print('local var:', var1)\n",
    "    print('global var:', var)"
   ]
  },
  {
   "cell_type": "code",
   "execution_count": 27,
   "id": "c80d6b34",
   "metadata": {},
   "outputs": [
    {
     "name": "stdout",
     "output_type": "stream",
     "text": [
      "local var: 30\n",
      "global var: 10\n"
     ]
    }
   ],
   "source": [
    "addition_function()"
   ]
  },
  {
   "cell_type": "markdown",
   "id": "934da57d",
   "metadata": {},
   "source": [
    "## Nested indexing"
   ]
  },
  {
   "cell_type": "code",
   "execution_count": 28,
   "id": "3a61a191",
   "metadata": {},
   "outputs": [],
   "source": [
    "nested_list = [1,2,[3,4],['five','six','seven']]"
   ]
  },
  {
   "cell_type": "code",
   "execution_count": 29,
   "id": "b896b40d",
   "metadata": {},
   "outputs": [
    {
     "data": {
      "text/plain": [
       "[1, 2, [3, 4], ['five', 'six', 'seven']]"
      ]
     },
     "execution_count": 29,
     "metadata": {},
     "output_type": "execute_result"
    }
   ],
   "source": [
    "nested_list"
   ]
  },
  {
   "cell_type": "code",
   "execution_count": 34,
   "id": "0f757bc3",
   "metadata": {},
   "outputs": [
    {
     "data": {
      "text/plain": [
       "'six'"
      ]
     },
     "execution_count": 34,
     "metadata": {},
     "output_type": "execute_result"
    }
   ],
   "source": [
    "nested_list[3][1]"
   ]
  },
  {
   "cell_type": "code",
   "execution_count": 36,
   "id": "72c6d0ba",
   "metadata": {},
   "outputs": [
    {
     "data": {
      "text/plain": [
       "['five', 'six', 'seven']"
      ]
     },
     "execution_count": 36,
     "metadata": {},
     "output_type": "execute_result"
    }
   ],
   "source": [
    "nested_list[-1]"
   ]
  },
  {
   "cell_type": "markdown",
   "id": "7ddb4812",
   "metadata": {},
   "source": [
    "## append and extend"
   ]
  },
  {
   "cell_type": "code",
   "execution_count": 39,
   "id": "17c7f67f",
   "metadata": {},
   "outputs": [],
   "source": [
    "list2=[5,6,7]\n",
    "list2.append(8)\n"
   ]
  },
  {
   "cell_type": "code",
   "execution_count": 40,
   "id": "682f18f3",
   "metadata": {},
   "outputs": [
    {
     "data": {
      "text/plain": [
       "[5, 6, 7, 8]"
      ]
     },
     "execution_count": 40,
     "metadata": {},
     "output_type": "execute_result"
    }
   ],
   "source": [
    "list2"
   ]
  },
  {
   "cell_type": "code",
   "execution_count": 41,
   "id": "4f42b177",
   "metadata": {},
   "outputs": [
    {
     "name": "stdout",
     "output_type": "stream",
     "text": [
      "[5, 6, 7, 8, 8, 5, 9]\n"
     ]
    }
   ],
   "source": [
    "list2.extend([8,5,9])\n",
    "print(list2)"
   ]
  },
  {
   "cell_type": "code",
   "execution_count": 42,
   "id": "6e6a6eac",
   "metadata": {},
   "outputs": [],
   "source": [
    "list2.extend(range(8,14,2))"
   ]
  },
  {
   "cell_type": "code",
   "execution_count": 43,
   "id": "98ac496d",
   "metadata": {},
   "outputs": [
    {
     "data": {
      "text/plain": [
       "[5, 6, 7, 8, 8, 5, 9, 8, 10, 12]"
      ]
     },
     "execution_count": 43,
     "metadata": {},
     "output_type": "execute_result"
    }
   ],
   "source": [
    "list2"
   ]
  },
  {
   "cell_type": "code",
   "execution_count": 44,
   "id": "9ab4ecc0",
   "metadata": {},
   "outputs": [],
   "source": [
    "var= 15\n",
    "list2.insert(0,var)"
   ]
  },
  {
   "cell_type": "code",
   "execution_count": 45,
   "id": "935350f3",
   "metadata": {},
   "outputs": [
    {
     "data": {
      "text/plain": [
       "[15, 5, 6, 7, 8, 8, 5, 9, 8, 10, 12]"
      ]
     },
     "execution_count": 45,
     "metadata": {},
     "output_type": "execute_result"
    }
   ],
   "source": [
    "list2"
   ]
  },
  {
   "cell_type": "markdown",
   "id": "405efa1f",
   "metadata": {},
   "source": []
  },
  {
   "cell_type": "code",
   "execution_count": 46,
   "id": "234c5c7e",
   "metadata": {},
   "outputs": [],
   "source": [
    "list2.remove(8)"
   ]
  },
  {
   "cell_type": "code",
   "execution_count": 47,
   "id": "6abe414c",
   "metadata": {},
   "outputs": [
    {
     "data": {
      "text/plain": [
       "[15, 5, 6, 7, 8, 5, 9, 8, 10, 12]"
      ]
     },
     "execution_count": 47,
     "metadata": {},
     "output_type": "execute_result"
    }
   ],
   "source": [
    "list2"
   ]
  },
  {
   "cell_type": "code",
   "execution_count": 49,
   "id": "2af46c7d",
   "metadata": {},
   "outputs": [],
   "source": [
    "list2.remove(12)"
   ]
  },
  {
   "cell_type": "code",
   "execution_count": 50,
   "id": "da58b282",
   "metadata": {},
   "outputs": [
    {
     "data": {
      "text/plain": [
       "[15, 5, 6, 7, 8, 5, 9, 8, 10]"
      ]
     },
     "execution_count": 50,
     "metadata": {},
     "output_type": "execute_result"
    }
   ],
   "source": [
    "list2"
   ]
  },
  {
   "cell_type": "code",
   "execution_count": 54,
   "id": "b501fbe9",
   "metadata": {
    "scrolled": true
   },
   "outputs": [],
   "source": [
    "del list2[-2]"
   ]
  },
  {
   "cell_type": "code",
   "execution_count": 55,
   "id": "4d8903e1",
   "metadata": {},
   "outputs": [
    {
     "data": {
      "text/plain": [
       "[15, 5, 6, 7, 8, 5, 9, 10]"
      ]
     },
     "execution_count": 55,
     "metadata": {},
     "output_type": "execute_result"
    }
   ],
   "source": [
    "list2"
   ]
  },
  {
   "cell_type": "code",
   "execution_count": 59,
   "id": "1b552889",
   "metadata": {},
   "outputs": [
    {
     "data": {
      "text/plain": [
       "[[2, 5, 6, 7, 8],\n",
       " [2, 5, 6, 7, 8],\n",
       " [2, 5, 6, 7, 8],\n",
       " [2, 5, 6, 7, 8],\n",
       " [2, 5, 6, 7, 8]]"
      ]
     },
     "execution_count": 59,
     "metadata": {},
     "output_type": "execute_result"
    }
   ],
   "source": [
    "list1=[2,5,6,7,8]\n",
    "[list1]*5"
   ]
  },
  {
   "cell_type": "markdown",
   "id": "c5667595",
   "metadata": {},
   "source": [
    "## remove and pop"
   ]
  },
  {
   "cell_type": "code",
   "execution_count": 75,
   "id": "9c727256",
   "metadata": {},
   "outputs": [],
   "source": [
    "String='DataScience'"
   ]
  },
  {
   "cell_type": "code",
   "execution_count": 76,
   "id": "fdd74fb2",
   "metadata": {},
   "outputs": [
    {
     "data": {
      "text/plain": [
       "'DataScience'"
      ]
     },
     "execution_count": 76,
     "metadata": {},
     "output_type": "execute_result"
    }
   ],
   "source": [
    "String"
   ]
  },
  {
   "cell_type": "code",
   "execution_count": 77,
   "id": "effb7444",
   "metadata": {},
   "outputs": [],
   "source": [
    "list3=list(String)"
   ]
  },
  {
   "cell_type": "code",
   "execution_count": 78,
   "id": "171b86b2",
   "metadata": {},
   "outputs": [
    {
     "data": {
      "text/plain": [
       "['D', 'a', 't', 'a', 'S', 'c', 'i', 'e', 'n', 'c', 'e']"
      ]
     },
     "execution_count": 78,
     "metadata": {},
     "output_type": "execute_result"
    }
   ],
   "source": [
    "list3"
   ]
  },
  {
   "cell_type": "code",
   "execution_count": 68,
   "id": "25c75bfa",
   "metadata": {},
   "outputs": [
    {
     "data": {
      "text/plain": [
       "'e'"
      ]
     },
     "execution_count": 68,
     "metadata": {},
     "output_type": "execute_result"
    }
   ],
   "source": [
    "list3.pop(-1)"
   ]
  },
  {
   "cell_type": "code",
   "execution_count": 72,
   "id": "8d47d4a6",
   "metadata": {},
   "outputs": [
    {
     "name": "stdout",
     "output_type": "stream",
     "text": [
      "5\n"
     ]
    }
   ],
   "source": [
    "print(list3.index('i'))"
   ]
  },
  {
   "cell_type": "code",
   "execution_count": 73,
   "id": "71dedf35",
   "metadata": {},
   "outputs": [
    {
     "name": "stdout",
     "output_type": "stream",
     "text": [
      "3\n"
     ]
    }
   ],
   "source": [
    "list3=[1,2,3,4,5]\n",
    "print(list3.index(4))"
   ]
  },
  {
   "cell_type": "code",
   "execution_count": 80,
   "id": "e29392b3",
   "metadata": {},
   "outputs": [
    {
     "name": "stdout",
     "output_type": "stream",
     "text": [
      "2\n"
     ]
    }
   ],
   "source": [
    "print(list3.count('e'))"
   ]
  },
  {
   "cell_type": "code",
   "execution_count": 103,
   "id": "907873ce",
   "metadata": {},
   "outputs": [
    {
     "ename": "IndentationError",
     "evalue": "unexpected indent (Temp/ipykernel_11128/2823590225.py, line 4)",
     "output_type": "error",
     "traceback": [
      "\u001b[1;36m  File \u001b[1;32m\"C:\\Users\\MUTHUK~1\\AppData\\Local\\Temp/ipykernel_11128/2823590225.py\"\u001b[1;36m, line \u001b[1;32m4\u001b[0m\n\u001b[1;33m    print(i)\u001b[0m\n\u001b[1;37m    ^\u001b[0m\n\u001b[1;31mIndentationError\u001b[0m\u001b[1;31m:\u001b[0m unexpected indent\n"
     ]
    }
   ],
   "source": [
    "lis1=[]\n",
    "for i in range(10):\n",
    "     lis1.append(i**2)\n",
    "        print(i)\n",
    "print(lis1)\n",
    "    \n",
    "   "
   ]
  },
  {
   "cell_type": "code",
   "execution_count": 104,
   "id": "f27e7937",
   "metadata": {},
   "outputs": [
    {
     "data": {
      "text/plain": [
       "[0, 1, 4, 9, 16, 25, 36, 49, 64, 81]"
      ]
     },
     "execution_count": 104,
     "metadata": {},
     "output_type": "execute_result"
    }
   ],
   "source": [
    "[i**2 for i in range(10)]"
   ]
  },
  {
   "cell_type": "code",
   "execution_count": 108,
   "id": "61b47145",
   "metadata": {},
   "outputs": [
    {
     "data": {
      "text/plain": [
       "[0, 2, 4, 6, 8, 10]"
      ]
     },
     "execution_count": 108,
     "metadata": {},
     "output_type": "execute_result"
    }
   ],
   "source": [
    "[i for i in range(11) if i%2==0]"
   ]
  },
  {
   "cell_type": "code",
   "execution_count": 111,
   "id": "21f7219f",
   "metadata": {},
   "outputs": [
    {
     "data": {
      "text/plain": [
       "['EVEN', 'ODD', 'EVEN', 'ODD', 'EVEN', 'ODD', 'EVEN', 'ODD', 'EVEN', 'ODD']"
      ]
     },
     "execution_count": 111,
     "metadata": {},
     "output_type": "execute_result"
    }
   ],
   "source": [
    "[ \"EVEN\" if i%2==0  else \"ODD\" for i in range(10)]"
   ]
  },
  {
   "cell_type": "markdown",
   "id": "bb2f2649",
   "metadata": {},
   "source": [
    "## Enumerator"
   ]
  },
  {
   "cell_type": "code",
   "execution_count": 112,
   "id": "3c6bdb0a",
   "metadata": {},
   "outputs": [
    {
     "data": {
      "text/plain": [
       "[(0, 'data'), (1, 'functions'), (2, 'Stats')]"
      ]
     },
     "execution_count": 112,
     "metadata": {},
     "output_type": "execute_result"
    }
   ],
   "source": [
    "x1 = ['data','functions','Stats']\n",
    "list(enumerate(x1))"
   ]
  },
  {
   "cell_type": "code",
   "execution_count": 113,
   "id": "4761b337",
   "metadata": {},
   "outputs": [
    {
     "data": {
      "text/plain": [
       "[(200, 'data'), (201, 'functions'), (202, 'Stats')]"
      ]
     },
     "execution_count": 113,
     "metadata": {},
     "output_type": "execute_result"
    }
   ],
   "source": [
    "x1 = ['data','functions','Stats']\n",
    "list(enumerate(x1,200))"
   ]
  },
  {
   "cell_type": "code",
   "execution_count": 114,
   "id": "effdab03",
   "metadata": {},
   "outputs": [
    {
     "name": "stdout",
     "output_type": "stream",
     "text": [
      "(3, 5.5, 'nine')\n"
     ]
    }
   ],
   "source": [
    "tuple1 = 3,5.5,'nine'\n",
    "print(tuple1)"
   ]
  },
  {
   "cell_type": "code",
   "execution_count": 115,
   "id": "83314665",
   "metadata": {},
   "outputs": [
    {
     "data": {
      "text/plain": [
       "tuple"
      ]
     },
     "execution_count": 115,
     "metadata": {},
     "output_type": "execute_result"
    }
   ],
   "source": [
    "type(tuple1)"
   ]
  },
  {
   "cell_type": "markdown",
   "id": "d8c284ad",
   "metadata": {},
   "source": [
    "## tuple unpacking"
   ]
  },
  {
   "cell_type": "code",
   "execution_count": 116,
   "id": "5060bb34",
   "metadata": {},
   "outputs": [
    {
     "name": "stdout",
     "output_type": "stream",
     "text": [
      "3\n",
      "5.5\n",
      "nine\n"
     ]
    }
   ],
   "source": [
    "a,b,c = tuple1\n",
    "print(a)\n",
    "print(b)\n",
    "print(c)"
   ]
  },
  {
   "cell_type": "code",
   "execution_count": 118,
   "id": "0cdcb584",
   "metadata": {},
   "outputs": [
    {
     "data": {
      "text/plain": [
       "tuple"
      ]
     },
     "execution_count": 118,
     "metadata": {},
     "output_type": "execute_result"
    }
   ],
   "source": [
    "tuple2=('tuple')\n",
    "type(tuple2)"
   ]
  },
  {
   "cell_type": "code",
   "execution_count": 119,
   "id": "dd89d9c2",
   "metadata": {},
   "outputs": [
    {
     "data": {
      "text/plain": [
       "tuple"
      ]
     },
     "execution_count": 119,
     "metadata": {},
     "output_type": "execute_result"
    }
   ],
   "source": [
    "tuple2=('tuple',)\n",
    "type(tuple2)"
   ]
  },
  {
   "cell_type": "markdown",
   "id": "9e91259f",
   "metadata": {},
   "source": [
    "## Changing a tuple"
   ]
  },
  {
   "cell_type": "code",
   "execution_count": 131,
   "id": "a1c68d20",
   "metadata": {},
   "outputs": [
    {
     "data": {
      "text/plain": [
       "(8, 3, [4, 2, 5, 4])"
      ]
     },
     "execution_count": 131,
     "metadata": {},
     "output_type": "execute_result"
    }
   ],
   "source": [
    "tupl1 = (8,3,[4,2,3,4])\n",
    "tupl1[2][2]= 5\n",
    "tupl1"
   ]
  },
  {
   "cell_type": "markdown",
   "id": "6989032c",
   "metadata": {},
   "source": [
    "## A set of mixed data types"
   ]
  },
  {
   "cell_type": "code",
   "execution_count": 132,
   "id": "6a7148b4",
   "metadata": {},
   "outputs": [
    {
     "name": "stdout",
     "output_type": "stream",
     "text": [
      "(1.0, 'may', (2, 5, 8))\n"
     ]
    }
   ],
   "source": [
    "my_set1 = (1.0 , 'may' , (2,5,8))\n",
    "print(my_set1)"
   ]
  },
  {
   "cell_type": "code",
   "execution_count": 134,
   "id": "5fca7229",
   "metadata": {},
   "outputs": [
    {
     "ename": "TypeError",
     "evalue": "unhashable type: 'list'",
     "output_type": "error",
     "traceback": [
      "\u001b[1;31m---------------------------------------------------------------------------\u001b[0m",
      "\u001b[1;31mTypeError\u001b[0m                                 Traceback (most recent call last)",
      "\u001b[1;32mC:\\Users\\MUTHUK~1\\AppData\\Local\\Temp/ipykernel_11128/3588018706.py\u001b[0m in \u001b[0;36m<module>\u001b[1;34m\u001b[0m\n\u001b[1;32m----> 1\u001b[1;33m \u001b[0mmy_set2\u001b[0m\u001b[1;33m=\u001b[0m\u001b[1;33m{\u001b[0m\u001b[1;36m1.0\u001b[0m\u001b[1;33m,\u001b[0m\u001b[1;34m'hello'\u001b[0m\u001b[1;33m,\u001b[0m\u001b[1;33m[\u001b[0m\u001b[1;36m2\u001b[0m\u001b[1;33m,\u001b[0m\u001b[1;36m5\u001b[0m\u001b[1;33m,\u001b[0m\u001b[1;36m8\u001b[0m\u001b[1;33m]\u001b[0m\u001b[1;33m}\u001b[0m\u001b[1;33m\u001b[0m\u001b[1;33m\u001b[0m\u001b[0m\n\u001b[0m\u001b[0;32m      2\u001b[0m \u001b[0mprint\u001b[0m\u001b[1;33m(\u001b[0m\u001b[0mmy_set2\u001b[0m\u001b[1;33m)\u001b[0m\u001b[1;33m\u001b[0m\u001b[1;33m\u001b[0m\u001b[0m\n",
      "\u001b[1;31mTypeError\u001b[0m: unhashable type: 'list'"
     ]
    }
   ],
   "source": [
    "my_set2={1.0,'hello',[2,5,8]}\n",
    "print(my_set2)"
   ]
  },
  {
   "cell_type": "code",
   "execution_count": 136,
   "id": "d17e31f5",
   "metadata": {},
   "outputs": [
    {
     "name": "stdout",
     "output_type": "stream",
     "text": [
      "{0, 1, 4, 8, 9, 10}\n",
      "{0, 1, 4, 8, 10}\n",
      "{0, 1, 8, 10}\n"
     ]
    }
   ],
   "source": [
    "my_set ={1,8,9,4,0,10}\n",
    "print(my_set)\n",
    "\n",
    "my_set.discard(9)\n",
    "print(my_set)\n",
    "\n",
    "my_set.remove(4)\n",
    "print(my_set)"
   ]
  },
  {
   "cell_type": "code",
   "execution_count": 137,
   "id": "0e0af104",
   "metadata": {},
   "outputs": [
    {
     "name": "stdout",
     "output_type": "stream",
     "text": [
      "{0, 1, 4, 8, 9, 10}\n",
      "{0, 1, 4, 8, 9, 10}\n"
     ]
    },
    {
     "ename": "KeyError",
     "evalue": "3",
     "output_type": "error",
     "traceback": [
      "\u001b[1;31m---------------------------------------------------------------------------\u001b[0m",
      "\u001b[1;31mKeyError\u001b[0m                                  Traceback (most recent call last)",
      "\u001b[1;32mC:\\Users\\MUTHUK~1\\AppData\\Local\\Temp/ipykernel_11128/3095413005.py\u001b[0m in \u001b[0;36m<module>\u001b[1;34m\u001b[0m\n\u001b[0;32m      5\u001b[0m \u001b[0mprint\u001b[0m\u001b[1;33m(\u001b[0m\u001b[0mmy_set\u001b[0m\u001b[1;33m)\u001b[0m\u001b[1;33m\u001b[0m\u001b[1;33m\u001b[0m\u001b[0m\n\u001b[0;32m      6\u001b[0m \u001b[1;33m\u001b[0m\u001b[0m\n\u001b[1;32m----> 7\u001b[1;33m \u001b[0mmy_set\u001b[0m\u001b[1;33m.\u001b[0m\u001b[0mremove\u001b[0m\u001b[1;33m(\u001b[0m\u001b[1;36m3\u001b[0m\u001b[1;33m)\u001b[0m\u001b[1;33m\u001b[0m\u001b[1;33m\u001b[0m\u001b[0m\n\u001b[0m\u001b[0;32m      8\u001b[0m \u001b[0mprint\u001b[0m\u001b[1;33m(\u001b[0m\u001b[0mmy_set\u001b[0m\u001b[1;33m)\u001b[0m\u001b[1;33m\u001b[0m\u001b[1;33m\u001b[0m\u001b[0m\n",
      "\u001b[1;31mKeyError\u001b[0m: 3"
     ]
    }
   ],
   "source": [
    "my_set ={1,8,9,4,0,10}\n",
    "print(my_set)\n",
    "\n",
    "my_set.discard(3)\n",
    "print(my_set)\n",
    "\n",
    "my_set.remove(3)\n",
    "print(my_set)"
   ]
  },
  {
   "cell_type": "markdown",
   "id": "17069100",
   "metadata": {},
   "source": [
    "## Iterators"
   ]
  },
  {
   "cell_type": "code",
   "execution_count": 138,
   "id": "0705f3ad",
   "metadata": {},
   "outputs": [
    {
     "name": "stdout",
     "output_type": "stream",
     "text": [
      "2\n"
     ]
    }
   ],
   "source": [
    "my_list =[2,9,8,3]\n",
    "\n",
    "my_iter = iter(my_list)\n",
    "\n",
    "print(next(my_iter))"
   ]
  },
  {
   "cell_type": "code",
   "execution_count": 139,
   "id": "4f4a71d9",
   "metadata": {},
   "outputs": [
    {
     "name": "stdout",
     "output_type": "stream",
     "text": [
      "9\n"
     ]
    }
   ],
   "source": [
    "print(next(my_iter))"
   ]
  },
  {
   "cell_type": "code",
   "execution_count": 140,
   "id": "71f57a38",
   "metadata": {},
   "outputs": [
    {
     "name": "stdout",
     "output_type": "stream",
     "text": [
      "8\n"
     ]
    }
   ],
   "source": [
    "print(next(my_iter))"
   ]
  },
  {
   "cell_type": "code",
   "execution_count": null,
   "id": "b1d4c2d9",
   "metadata": {},
   "outputs": [],
   "source": [
    "print(next(my_iter))\n",
    "print(next(my_iter))"
   ]
  },
  {
   "cell_type": "markdown",
   "id": "3eb29ea0",
   "metadata": {},
   "source": [
    "## Generators"
   ]
  },
  {
   "cell_type": "code",
   "execution_count": 10,
   "id": "b043c2e6",
   "metadata": {},
   "outputs": [],
   "source": [
    "def generator_fun():\n",
    "    num = 1\n",
    "    print('The first number:, ')\n",
    "    yield num\n",
    "    num += 1 # n = n+1\n",
    "    print('the second number:, ')\n",
    "    yield num\n",
    "    num += 1\n",
    "    print('the third number')\n",
    "    yield num"
   ]
  },
  {
   "cell_type": "code",
   "execution_count": 3,
   "id": "cf10da36",
   "metadata": {},
   "outputs": [
    {
     "data": {
      "text/plain": [
       "<generator object generator_fun at 0x000001C9E7EA5820>"
      ]
     },
     "execution_count": 3,
     "metadata": {},
     "output_type": "execute_result"
    }
   ],
   "source": [
    "generator_fun()"
   ]
  },
  {
   "cell_type": "code",
   "execution_count": 11,
   "id": "9f35877f",
   "metadata": {},
   "outputs": [],
   "source": [
    "var1 = generator_fun()"
   ]
  },
  {
   "cell_type": "code",
   "execution_count": 12,
   "id": "421562f7",
   "metadata": {},
   "outputs": [
    {
     "name": "stdout",
     "output_type": "stream",
     "text": [
      "The first number:, \n"
     ]
    },
    {
     "data": {
      "text/plain": [
       "1"
      ]
     },
     "execution_count": 12,
     "metadata": {},
     "output_type": "execute_result"
    }
   ],
   "source": [
    "next(var1)"
   ]
  },
  {
   "cell_type": "code",
   "execution_count": 13,
   "id": "06814b94",
   "metadata": {},
   "outputs": [
    {
     "name": "stdout",
     "output_type": "stream",
     "text": [
      "the second number:, \n"
     ]
    },
    {
     "data": {
      "text/plain": [
       "2"
      ]
     },
     "execution_count": 13,
     "metadata": {},
     "output_type": "execute_result"
    }
   ],
   "source": [
    "next(var1)"
   ]
  },
  {
   "cell_type": "code",
   "execution_count": 14,
   "id": "4edaca43",
   "metadata": {},
   "outputs": [
    {
     "name": "stdout",
     "output_type": "stream",
     "text": [
      "the third number\n"
     ]
    },
    {
     "data": {
      "text/plain": [
       "3"
      ]
     },
     "execution_count": 14,
     "metadata": {},
     "output_type": "execute_result"
    }
   ],
   "source": [
    "next(var1)"
   ]
  },
  {
   "cell_type": "code",
   "execution_count": 15,
   "id": "5faaa416",
   "metadata": {},
   "outputs": [
    {
     "ename": "StopIteration",
     "evalue": "",
     "output_type": "error",
     "traceback": [
      "\u001b[1;31m---------------------------------------------------------------------------\u001b[0m",
      "\u001b[1;31mStopIteration\u001b[0m                             Traceback (most recent call last)",
      "\u001b[1;32mC:\\Users\\MUTHUK~1\\AppData\\Local\\Temp/ipykernel_5080/1695450877.py\u001b[0m in \u001b[0;36m<module>\u001b[1;34m\u001b[0m\n\u001b[1;32m----> 1\u001b[1;33m \u001b[0mnext\u001b[0m\u001b[1;33m(\u001b[0m\u001b[0mvar1\u001b[0m\u001b[1;33m)\u001b[0m\u001b[1;33m\u001b[0m\u001b[1;33m\u001b[0m\u001b[0m\n\u001b[0m",
      "\u001b[1;31mStopIteration\u001b[0m: "
     ]
    }
   ],
   "source": [
    "next(var1)"
   ]
  },
  {
   "cell_type": "code",
   "execution_count": 84,
   "id": "52d44c8d",
   "metadata": {},
   "outputs": [],
   "source": [
    "def generator1(st):\n",
    "    l=len(st)\n",
    "    for i in range(l -1,-1,-1):\n",
    "        yield st[i]\n",
    "st='DataScience'"
   ]
  },
  {
   "cell_type": "code",
   "execution_count": 90,
   "id": "ae4e0a4b",
   "metadata": {},
   "outputs": [
    {
     "name": "stdout",
     "output_type": "stream",
     "text": [
      "e c n e i c S a t a D "
     ]
    }
   ],
   "source": [
    "for char in generator1(st):\n",
    "    print(char, end = ' ')"
   ]
  },
  {
   "cell_type": "markdown",
   "id": "bd8b0459",
   "metadata": {},
   "source": [
    "## Generator Expression"
   ]
  },
  {
   "cell_type": "code",
   "execution_count": 91,
   "id": "31cc2bed",
   "metadata": {},
   "outputs": [],
   "source": [
    "list1=[2,4,5,10]"
   ]
  },
  {
   "cell_type": "code",
   "execution_count": 92,
   "id": "37408d02",
   "metadata": {},
   "outputs": [
    {
     "data": {
      "text/plain": [
       "[4, 16, 25, 100]"
      ]
     },
     "execution_count": 92,
     "metadata": {},
     "output_type": "execute_result"
    }
   ],
   "source": [
    "[i**2 for i in list1]"
   ]
  },
  {
   "cell_type": "code",
   "execution_count": 93,
   "id": "14663bea",
   "metadata": {},
   "outputs": [
    {
     "data": {
      "text/plain": [
       "<generator object <genexpr> at 0x000001C9EA0B3740>"
      ]
     },
     "execution_count": 93,
     "metadata": {},
     "output_type": "execute_result"
    }
   ],
   "source": [
    "(i**2 for i in list1)"
   ]
  },
  {
   "cell_type": "code",
   "execution_count": 95,
   "id": "d124e4a1",
   "metadata": {},
   "outputs": [],
   "source": [
    "gen_var = (i**2 for i in list1)"
   ]
  },
  {
   "cell_type": "code",
   "execution_count": 96,
   "id": "c8f773c3",
   "metadata": {},
   "outputs": [
    {
     "name": "stdout",
     "output_type": "stream",
     "text": [
      "4\n",
      "16\n",
      "25\n",
      "100\n"
     ]
    }
   ],
   "source": [
    "print(next(gen_var))\n",
    "print(next(gen_var))\n",
    "print(next(gen_var))\n",
    "print(next(gen_var))"
   ]
  },
  {
   "cell_type": "code",
   "execution_count": 97,
   "id": "a5377400",
   "metadata": {},
   "outputs": [
    {
     "data": {
      "text/plain": [
       "4"
      ]
     },
     "execution_count": 97,
     "metadata": {},
     "output_type": "execute_result"
    }
   ],
   "source": [
    "min(i**2 for i in list1)"
   ]
  },
  {
   "cell_type": "code",
   "execution_count": 98,
   "id": "81d0ca24",
   "metadata": {
    "scrolled": true
   },
   "outputs": [
    {
     "data": {
      "text/plain": [
       "100"
      ]
     },
     "execution_count": 98,
     "metadata": {},
     "output_type": "execute_result"
    }
   ],
   "source": [
    "max(i**2 for i in list1)"
   ]
  },
  {
   "cell_type": "markdown",
   "id": "ece640bf",
   "metadata": {},
   "source": [
    "# Closures"
   ]
  },
  {
   "cell_type": "code",
   "execution_count": 100,
   "id": "28280190",
   "metadata": {},
   "outputs": [],
   "source": [
    "def outer_fun(arg):\n",
    "    def inner_fun():\n",
    "        var1= arg * 5\n",
    "        print(var1)\n",
    "    inner_fun()"
   ]
  },
  {
   "cell_type": "code",
   "execution_count": 101,
   "id": "0c870b58",
   "metadata": {},
   "outputs": [
    {
     "name": "stdout",
     "output_type": "stream",
     "text": [
      "100\n"
     ]
    }
   ],
   "source": [
    "outer_fun(20)"
   ]
  },
  {
   "cell_type": "code",
   "execution_count": 109,
   "id": "4d31a8d1",
   "metadata": {},
   "outputs": [],
   "source": [
    "def outer_fun(arg):\n",
    "    var3 = 5\n",
    "    def inner_fun():\n",
    "        var1= arg * 5 + var3\n",
    "        print(var1) \n",
    "    return inner_fun()"
   ]
  },
  {
   "cell_type": "code",
   "execution_count": 110,
   "id": "39c97cd8",
   "metadata": {},
   "outputs": [
    {
     "name": "stdout",
     "output_type": "stream",
     "text": [
      "105\n"
     ]
    }
   ],
   "source": [
    "outer_fun(20)"
   ]
  },
  {
   "cell_type": "code",
   "execution_count": 111,
   "id": "588e8f6c",
   "metadata": {},
   "outputs": [],
   "source": [
    "def outer_fun(arg):\n",
    "    def inner_fun():\n",
    "        var1 = arg*5\n",
    "        print(var1)\n",
    "    return inner_fun\n",
    "           "
   ]
  },
  {
   "cell_type": "code",
   "execution_count": 112,
   "id": "1a368251",
   "metadata": {},
   "outputs": [
    {
     "data": {
      "text/plain": [
       "<function __main__.outer_fun.<locals>.inner_fun()>"
      ]
     },
     "execution_count": 112,
     "metadata": {},
     "output_type": "execute_result"
    }
   ],
   "source": [
    "outer_fun(50)"
   ]
  },
  {
   "cell_type": "code",
   "execution_count": 113,
   "id": "708839f2",
   "metadata": {},
   "outputs": [],
   "source": [
    "fun_ret = outer_fun(50)"
   ]
  },
  {
   "cell_type": "code",
   "execution_count": 114,
   "id": "e3b9bbf2",
   "metadata": {},
   "outputs": [
    {
     "name": "stdout",
     "output_type": "stream",
     "text": [
      "250\n"
     ]
    }
   ],
   "source": [
    "fun_ret()"
   ]
  },
  {
   "cell_type": "markdown",
   "id": "5c8e47bf",
   "metadata": {},
   "source": [
    "## Decorators"
   ]
  },
  {
   "cell_type": "code",
   "execution_count": 115,
   "id": "39385cdd",
   "metadata": {},
   "outputs": [
    {
     "name": "stdout",
     "output_type": "stream",
     "text": [
      "print function1\n"
     ]
    }
   ],
   "source": [
    "def func1():\n",
    "    print('print function1')\n",
    "func1()"
   ]
  },
  {
   "cell_type": "code",
   "execution_count": 116,
   "id": "ddc5bd0a",
   "metadata": {},
   "outputs": [
    {
     "name": "stdout",
     "output_type": "stream",
     "text": [
      "print function1\n"
     ]
    }
   ],
   "source": [
    "func2= func1\n",
    "func2()"
   ]
  },
  {
   "cell_type": "code",
   "execution_count": 124,
   "id": "d67199f7",
   "metadata": {},
   "outputs": [],
   "source": [
    "def funca(a):\n",
    "    return a**2"
   ]
  },
  {
   "cell_type": "code",
   "execution_count": 125,
   "id": "091e3a32",
   "metadata": {},
   "outputs": [],
   "source": [
    "def funcb(a):\n",
    "    return a**3"
   ]
  },
  {
   "cell_type": "code",
   "execution_count": 127,
   "id": "256509cf",
   "metadata": {},
   "outputs": [
    {
     "name": "stdout",
     "output_type": "stream",
     "text": [
      "64\n"
     ]
    }
   ],
   "source": [
    "def funcc(func1,b):\n",
    "    result=func1(b)\n",
    "    return result\n",
    "print(funcc(funcb,4))"
   ]
  },
  {
   "cell_type": "code",
   "execution_count": 128,
   "id": "b16fdb0b",
   "metadata": {},
   "outputs": [
    {
     "name": "stdout",
     "output_type": "stream",
     "text": [
      "this is an ordinary func\n",
      "this is decorated fn\n"
     ]
    }
   ],
   "source": [
    "def decorating_fun(fn):\n",
    "    def nested_fn():\n",
    "        fn()\n",
    "        print('this is decorated fn')\n",
    "    return nested_fn\n",
    "\n",
    "def ordinary_fn():\n",
    "    print('this is an ordinary func')\n",
    "\n",
    "deco = decorating_fun(ordinary_fn)\n",
    "deco()"
   ]
  },
  {
   "cell_type": "code",
   "execution_count": 133,
   "id": "31686edc",
   "metadata": {},
   "outputs": [],
   "source": [
    "def decorating_fun(func):\n",
    "    def nested_fn(a,b): #decorating function\n",
    "        print('Dividing', a ,'and' , b)\n",
    "        if b==0:\n",
    "            print('can not divide')\n",
    "            return\n",
    "        return func(a,b)\n",
    "    return nested_fn"
   ]
  },
  {
   "cell_type": "code",
   "execution_count": 134,
   "id": "1890ae19",
   "metadata": {},
   "outputs": [],
   "source": [
    "@decorating_fun\n",
    "def ordinary_fn(c,d):\n",
    "    return c/d"
   ]
  },
  {
   "cell_type": "code",
   "execution_count": 136,
   "id": "4ef5bc7f",
   "metadata": {},
   "outputs": [
    {
     "name": "stdout",
     "output_type": "stream",
     "text": [
      "Dividing 16 and 4\n"
     ]
    },
    {
     "data": {
      "text/plain": [
       "4.0"
      ]
     },
     "execution_count": 136,
     "metadata": {},
     "output_type": "execute_result"
    }
   ],
   "source": [
    "ordinary_fn(16,4)"
   ]
  },
  {
   "cell_type": "code",
   "execution_count": null,
   "id": "ed5c7258",
   "metadata": {},
   "outputs": [],
   "source": []
  }
 ],
 "metadata": {
  "kernelspec": {
   "display_name": "Python 3 (ipykernel)",
   "language": "python",
   "name": "python3"
  },
  "language_info": {
   "codemirror_mode": {
    "name": "ipython",
    "version": 3
   },
   "file_extension": ".py",
   "mimetype": "text/x-python",
   "name": "python",
   "nbconvert_exporter": "python",
   "pygments_lexer": "ipython3",
   "version": "3.9.7"
  }
 },
 "nbformat": 4,
 "nbformat_minor": 5
}
